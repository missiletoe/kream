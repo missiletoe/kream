{
 "cells": [
  {
   "cell_type": "code",
   "execution_count": 2,
   "id": "00438ed2-2b56-42bc-b416-ce717b57244b",
   "metadata": {},
   "outputs": [
    {
     "ename": "KeyboardInterrupt",
     "evalue": "Interrupted by user",
     "output_type": "error",
     "traceback": [
      "\u001b[1;31m---------------------------------------------------------------------------\u001b[0m",
      "\u001b[1;31mKeyboardInterrupt\u001b[0m                         Traceback (most recent call last)",
      "Cell \u001b[1;32mIn[2], line 21\u001b[0m\n\u001b[0;32m     19\u001b[0m driver\u001b[38;5;241m.\u001b[39mget(\u001b[38;5;124m'\u001b[39m\u001b[38;5;124mhttps://kream.co.kr/login\u001b[39m\u001b[38;5;124m'\u001b[39m)\n\u001b[0;32m     20\u001b[0m WebDriverWait(driver, \u001b[38;5;241m10\u001b[39m)\u001b[38;5;241m.\u001b[39muntil(EC\u001b[38;5;241m.\u001b[39mpresence_of_element_located((By\u001b[38;5;241m.\u001b[39mID,\u001b[38;5;124m'\u001b[39m\u001b[38;5;124mwrap\u001b[39m\u001b[38;5;124m'\u001b[39m)))\n\u001b[1;32m---> 21\u001b[0m driver\u001b[38;5;241m.\u001b[39mfind_element(By\u001b[38;5;241m.\u001b[39mCSS_SELECTOR,\u001b[38;5;124m'\u001b[39m\u001b[38;5;124minput[type=\u001b[39m\u001b[38;5;124m\"\u001b[39m\u001b[38;5;124memail\u001b[39m\u001b[38;5;124m\"\u001b[39m\u001b[38;5;124m]\u001b[39m\u001b[38;5;124m'\u001b[39m)\u001b[38;5;241m.\u001b[39msend_keys(\u001b[38;5;28minput\u001b[39m(\u001b[38;5;124m'\u001b[39m\u001b[38;5;124m아이디 입력 : \u001b[39m\u001b[38;5;124m'\u001b[39m))\n\u001b[0;32m     22\u001b[0m driver\u001b[38;5;241m.\u001b[39mfind_element(By\u001b[38;5;241m.\u001b[39mCSS_SELECTOR,\u001b[38;5;124m'\u001b[39m\u001b[38;5;124minput[type=\u001b[39m\u001b[38;5;124m\"\u001b[39m\u001b[38;5;124mpassword\u001b[39m\u001b[38;5;124m\"\u001b[39m\u001b[38;5;124m]\u001b[39m\u001b[38;5;124m'\u001b[39m)\u001b[38;5;241m.\u001b[39msend_keys(\u001b[38;5;28minput\u001b[39m(\u001b[38;5;124m'\u001b[39m\u001b[38;5;124m비밀번호 입력 : \u001b[39m\u001b[38;5;124m'\u001b[39m))\n\u001b[0;32m     23\u001b[0m driver\u001b[38;5;241m.\u001b[39mfind_element(By\u001b[38;5;241m.\u001b[39mCLASS_NAME,\u001b[38;5;124m'\u001b[39m\u001b[38;5;124mlogin-btn-box\u001b[39m\u001b[38;5;124m'\u001b[39m)\u001b[38;5;241m.\u001b[39mclick()\n",
      "File \u001b[1;32m~\\anaconda3\\Lib\\site-packages\\ipykernel\\kernelbase.py:1262\u001b[0m, in \u001b[0;36mKernel.raw_input\u001b[1;34m(self, prompt)\u001b[0m\n\u001b[0;32m   1260\u001b[0m     msg \u001b[38;5;241m=\u001b[39m \u001b[38;5;124m\"\u001b[39m\u001b[38;5;124mraw_input was called, but this frontend does not support input requests.\u001b[39m\u001b[38;5;124m\"\u001b[39m\n\u001b[0;32m   1261\u001b[0m     \u001b[38;5;28;01mraise\u001b[39;00m StdinNotImplementedError(msg)\n\u001b[1;32m-> 1262\u001b[0m \u001b[38;5;28;01mreturn\u001b[39;00m \u001b[38;5;28mself\u001b[39m\u001b[38;5;241m.\u001b[39m_input_request(\n\u001b[0;32m   1263\u001b[0m     \u001b[38;5;28mstr\u001b[39m(prompt),\n\u001b[0;32m   1264\u001b[0m     \u001b[38;5;28mself\u001b[39m\u001b[38;5;241m.\u001b[39m_parent_ident[\u001b[38;5;124m\"\u001b[39m\u001b[38;5;124mshell\u001b[39m\u001b[38;5;124m\"\u001b[39m],\n\u001b[0;32m   1265\u001b[0m     \u001b[38;5;28mself\u001b[39m\u001b[38;5;241m.\u001b[39mget_parent(\u001b[38;5;124m\"\u001b[39m\u001b[38;5;124mshell\u001b[39m\u001b[38;5;124m\"\u001b[39m),\n\u001b[0;32m   1266\u001b[0m     password\u001b[38;5;241m=\u001b[39m\u001b[38;5;28;01mFalse\u001b[39;00m,\n\u001b[0;32m   1267\u001b[0m )\n",
      "File \u001b[1;32m~\\anaconda3\\Lib\\site-packages\\ipykernel\\kernelbase.py:1305\u001b[0m, in \u001b[0;36mKernel._input_request\u001b[1;34m(self, prompt, ident, parent, password)\u001b[0m\n\u001b[0;32m   1302\u001b[0m \u001b[38;5;28;01mexcept\u001b[39;00m \u001b[38;5;167;01mKeyboardInterrupt\u001b[39;00m:\n\u001b[0;32m   1303\u001b[0m     \u001b[38;5;66;03m# re-raise KeyboardInterrupt, to truncate traceback\u001b[39;00m\n\u001b[0;32m   1304\u001b[0m     msg \u001b[38;5;241m=\u001b[39m \u001b[38;5;124m\"\u001b[39m\u001b[38;5;124mInterrupted by user\u001b[39m\u001b[38;5;124m\"\u001b[39m\n\u001b[1;32m-> 1305\u001b[0m     \u001b[38;5;28;01mraise\u001b[39;00m \u001b[38;5;167;01mKeyboardInterrupt\u001b[39;00m(msg) \u001b[38;5;28;01mfrom\u001b[39;00m \u001b[38;5;28;01mNone\u001b[39;00m\n\u001b[0;32m   1306\u001b[0m \u001b[38;5;28;01mexcept\u001b[39;00m \u001b[38;5;167;01mException\u001b[39;00m:\n\u001b[0;32m   1307\u001b[0m     \u001b[38;5;28mself\u001b[39m\u001b[38;5;241m.\u001b[39mlog\u001b[38;5;241m.\u001b[39mwarning(\u001b[38;5;124m\"\u001b[39m\u001b[38;5;124mInvalid Message:\u001b[39m\u001b[38;5;124m\"\u001b[39m, exc_info\u001b[38;5;241m=\u001b[39m\u001b[38;5;28;01mTrue\u001b[39;00m)\n",
      "\u001b[1;31mKeyboardInterrupt\u001b[0m: Interrupted by user"
     ]
    }
   ],
   "source": [
    "# 크림 제품페이지에서 거래 데이터 크롤링 코드\n",
    "from selenium import webdriver\n",
    "from selenium.webdriver.common.by import By\n",
    "from selenium.webdriver.support.ui import WebDriverWait\n",
    "from selenium.webdriver.support import expected_conditions as EC\n",
    "import time\n",
    "import random\n",
    "import pandas as pd\n",
    "# Selenium 옵션값 설정\n",
    "options = webdriver.ChromeOptions()\n",
    "options.add_argument('--headless')\n",
    "options.add_argument('--window-size=1920,1080')\n",
    "options.add_argument('user-agent=Mozilla/5.0 (Macintosh; Intel Mac OS X 10_15_7) AppleWebKit/537.36 (KHTML, like Gecko) Chrome/129.0.0.0 Safari/537.36')\n",
    "options.add_argument('--no-sandbox')\n",
    "options.add_argument('--disable-dev-shm-usage')\n",
    "driver = webdriver.Chrome(options=options)\n",
    "#############################################################\n",
    "# 로그인\n",
    "driver.get('https://kream.co.kr/login')\n",
    "WebDriverWait(driver, 10).until(EC.presence_of_element_located((By.ID,'wrap')))\n",
    "driver.find_element(By.CSS_SELECTOR,'input[type=\"email\"]').send_keys(input('아이디 입력 : '))\n",
    "driver.find_element(By.CSS_SELECTOR,'input[type=\"password\"]').send_keys(input('비밀번호 입력 : '))\n",
    "driver.find_element(By.CLASS_NAME,'login-btn-box').click()\n",
    "#############################################################\n",
    "# 제품 페이지 접속\n",
    "pid = input('product ID : ')\n",
    "size = input('size : ')\n",
    "driver.get(f'https://kream.co.kr/products/{pid}/?size={size}')\n",
    "WebDriverWait(driver, 10).until(EC.presence_of_element_located((By.ID,'wrap')))\n",
    "print(driver.title)\n",
    "# 체결 내역 더보기 버튼 클릭\n",
    "driver.find_element(By.XPATH,'//*[@id=\"panel1\"]/a').click()\n",
    "WebDriverWait(driver, 20).until(EC.presence_of_element_located((By.CLASS_NAME, 'price_body')))\n",
    "#############################################################\n",
    "# 거래 데이터가 있는 클래스 찾기\n",
    "price_body = driver.find_element(By.CLASS_NAME,'price_body')\n",
    "# 페이지 무한스크롤\n",
    "loaded = 50 # 한번 스크롤에 불러오는 데이터 개수\n",
    "for i in range(driver.execute_script('return arguments[0].scrollHeight', price_body), int(int(input('로딩할 거래 데이터 수 입력 : ')) / loaded)*1650, 1650):\n",
    "    # 첫번째만 1658px 스크롤, 나머지는 1650px 스크롤\n",
    "    if driver.execute_script('return arguments[0].scrollHeight', price_body) == 1658:\n",
    "        driver.execute_script('arguments[0].scrollTop = arguments[1]', price_body, 1658)\n",
    "    else:\n",
    "        driver.execute_script('arguments[0].scrollTop = arguments[1]', price_body, i)\n",
    "    # 스크롤 후 2~3초 대기\n",
    "    time.sleep(random.uniform(2,3))\n",
    "    try:\n",
    "        WebDriverWait(driver, 60).until(EC.presence_of_element_located((By.XPATH, f'//div[@class=\"body_list\"][{loaded}]')))\n",
    "        loaded += 50\n",
    "        print(f'{loaded}개 데이터 호출 완료')\n",
    "    except:\n",
    "        print('데이터 추가 로딩 실패. 스크롤 반복문 종료')\n",
    "        break\n",
    "#############################################################\n",
    "# 스크롤 후 viewport에 보여지는 데이터를 salesList에 추가\n",
    "body_list = price_body.find_elements(By.CLASS_NAME,'body_list')\n",
    "salesList = []\n",
    "count = 0\n",
    "for sales in body_list:\n",
    "    date_sold = sales.find_element(By.XPATH,'./div[3]/span').text\n",
    "    size_sold = sales.find_element(By.XPATH,'./div[1]/span').text\n",
    "    price_sold = sales.find_element(By.XPATH,'./div[2]/span').text\n",
    "    try:\n",
    "        sales.find_element(By.XPATH,'./div[3]/div/i/span').text\n",
    "        express = True\n",
    "    except:\n",
    "        express = False\n",
    "    \n",
    "    salesList.append({\n",
    "        '거래일': date_sold,\n",
    "        '옵션': size_sold,\n",
    "        '거래가': price_sold,\n",
    "        '빠른배송': express\n",
    "    })\n",
    "    count += 1\n",
    "    print(f'리스트에 {count}개 데이터 추가 완료')\n",
    "#############################################################\n",
    "# 최종 데이터 출력\n",
    "print(f\"총 {len(salesList)}개의 거래 데이터가 수집되었습니다.\")\n",
    "tables = pd.DataFrame(salesList)"
   ]
  },
  {
   "cell_type": "markdown",
   "id": "d12dac97-0252-4b27-bc7d-867f74c71bda",
   "metadata": {},
   "source": [
    "## 빠른배송과 일반배송의 거래가 차이의 평균"
   ]
  },
  {
   "cell_type": "code",
   "execution_count": 29,
   "id": "29351a15-4428-4806-80d1-44af1d436add",
   "metadata": {},
   "outputs": [],
   "source": [
    "import pandas as pd\n",
    "import matplotlib.pyplot as plt\n",
    "import numpy as np\n",
    "import seaborn as sns\n",
    "\n",
    "plt.rc('font', family='Arial')"
   ]
  },
  {
   "cell_type": "code",
   "execution_count": 5,
   "id": "0ffe5707-36f6-47de-a3da-064d978d05b1",
   "metadata": {},
   "outputs": [],
   "source": [
    "df = pd.read_csv('[28029-270] 나이키 덩크 로우 레트로 블랙 _ Nike _ KREAM.csv')"
   ]
  },
  {
   "cell_type": "code",
   "execution_count": 6,
   "id": "858e5b2f-341d-49eb-a755-3813895ea702",
   "metadata": {
    "scrolled": true
   },
   "outputs": [
    {
     "name": "stdout",
     "output_type": "stream",
     "text": [
      "<class 'pandas.core.frame.DataFrame'>\n",
      "RangeIndex: 21000 entries, 0 to 20999\n",
      "Data columns (total 5 columns):\n",
      " #   Column      Non-Null Count  Dtype \n",
      "---  ------      --------------  ----- \n",
      " 0   Unnamed: 0  21000 non-null  int64 \n",
      " 1   거래일         21000 non-null  object\n",
      " 2   옵션          21000 non-null  int64 \n",
      " 3   거래가         21000 non-null  object\n",
      " 4   빠른배송        21000 non-null  bool  \n",
      "dtypes: bool(1), int64(2), object(2)\n",
      "memory usage: 676.9+ KB\n"
     ]
    }
   ],
   "source": [
    "df.info()"
   ]
  },
  {
   "cell_type": "code",
   "execution_count": 7,
   "id": "597a0985-8e43-4021-875b-e8af495744ea",
   "metadata": {},
   "outputs": [
    {
     "data": {
      "text/html": [
       "<div>\n",
       "<style scoped>\n",
       "    .dataframe tbody tr th:only-of-type {\n",
       "        vertical-align: middle;\n",
       "    }\n",
       "\n",
       "    .dataframe tbody tr th {\n",
       "        vertical-align: top;\n",
       "    }\n",
       "\n",
       "    .dataframe thead th {\n",
       "        text-align: right;\n",
       "    }\n",
       "</style>\n",
       "<table border=\"1\" class=\"dataframe\">\n",
       "  <thead>\n",
       "    <tr style=\"text-align: right;\">\n",
       "      <th></th>\n",
       "      <th>Unnamed: 0</th>\n",
       "      <th>거래일</th>\n",
       "      <th>옵션</th>\n",
       "      <th>거래가</th>\n",
       "      <th>빠른배송</th>\n",
       "    </tr>\n",
       "  </thead>\n",
       "  <tbody>\n",
       "    <tr>\n",
       "      <th>0</th>\n",
       "      <td>0</td>\n",
       "      <td>24/09/28</td>\n",
       "      <td>270</td>\n",
       "      <td>97,000원</td>\n",
       "      <td>True</td>\n",
       "    </tr>\n",
       "    <tr>\n",
       "      <th>1</th>\n",
       "      <td>1</td>\n",
       "      <td>24/09/27</td>\n",
       "      <td>270</td>\n",
       "      <td>92,000원</td>\n",
       "      <td>False</td>\n",
       "    </tr>\n",
       "    <tr>\n",
       "      <th>2</th>\n",
       "      <td>2</td>\n",
       "      <td>24/09/27</td>\n",
       "      <td>270</td>\n",
       "      <td>97,000원</td>\n",
       "      <td>True</td>\n",
       "    </tr>\n",
       "    <tr>\n",
       "      <th>3</th>\n",
       "      <td>3</td>\n",
       "      <td>24/09/27</td>\n",
       "      <td>270</td>\n",
       "      <td>96,000원</td>\n",
       "      <td>True</td>\n",
       "    </tr>\n",
       "    <tr>\n",
       "      <th>4</th>\n",
       "      <td>4</td>\n",
       "      <td>24/09/27</td>\n",
       "      <td>270</td>\n",
       "      <td>96,000원</td>\n",
       "      <td>True</td>\n",
       "    </tr>\n",
       "  </tbody>\n",
       "</table>\n",
       "</div>"
      ],
      "text/plain": [
       "   Unnamed: 0       거래일   옵션      거래가   빠른배송\n",
       "0           0  24/09/28  270  97,000원   True\n",
       "1           1  24/09/27  270  92,000원  False\n",
       "2           2  24/09/27  270  97,000원   True\n",
       "3           3  24/09/27  270  96,000원   True\n",
       "4           4  24/09/27  270  96,000원   True"
      ]
     },
     "execution_count": 7,
     "metadata": {},
     "output_type": "execute_result"
    }
   ],
   "source": [
    "\n",
    "df.head()"
   ]
  },
  {
   "cell_type": "code",
   "execution_count": 8,
   "id": "ab9ef3a3-f78a-4176-90d8-4d9cebd1c930",
   "metadata": {},
   "outputs": [],
   "source": [
    "df['거래일'] = pd.to_datetime(df['거래일'], format='%y/%m/%d')"
   ]
  },
  {
   "cell_type": "code",
   "execution_count": 9,
   "id": "0a7ab2d5-bf30-47b4-97ee-4736aacbaf41",
   "metadata": {},
   "outputs": [
    {
     "name": "stdout",
     "output_type": "stream",
     "text": [
      "<class 'pandas.core.frame.DataFrame'>\n",
      "RangeIndex: 21000 entries, 0 to 20999\n",
      "Data columns (total 5 columns):\n",
      " #   Column      Non-Null Count  Dtype         \n",
      "---  ------      --------------  -----         \n",
      " 0   Unnamed: 0  21000 non-null  int64         \n",
      " 1   거래일         21000 non-null  datetime64[ns]\n",
      " 2   옵션          21000 non-null  int64         \n",
      " 3   거래가         21000 non-null  object        \n",
      " 4   빠른배송        21000 non-null  bool          \n",
      "dtypes: bool(1), datetime64[ns](1), int64(2), object(1)\n",
      "memory usage: 676.9+ KB\n"
     ]
    }
   ],
   "source": [
    "\n",
    "df.info()"
   ]
  },
  {
   "cell_type": "code",
   "execution_count": 10,
   "id": "38fe7565-d2fd-4c9b-b983-04d05c4ac7e6",
   "metadata": {},
   "outputs": [
    {
     "data": {
      "text/html": [
       "<div>\n",
       "<style scoped>\n",
       "    .dataframe tbody tr th:only-of-type {\n",
       "        vertical-align: middle;\n",
       "    }\n",
       "\n",
       "    .dataframe tbody tr th {\n",
       "        vertical-align: top;\n",
       "    }\n",
       "\n",
       "    .dataframe thead th {\n",
       "        text-align: right;\n",
       "    }\n",
       "</style>\n",
       "<table border=\"1\" class=\"dataframe\">\n",
       "  <thead>\n",
       "    <tr style=\"text-align: right;\">\n",
       "      <th></th>\n",
       "      <th>Unnamed: 0</th>\n",
       "      <th>거래일</th>\n",
       "      <th>옵션</th>\n",
       "      <th>거래가</th>\n",
       "      <th>빠른배송</th>\n",
       "    </tr>\n",
       "  </thead>\n",
       "  <tbody>\n",
       "    <tr>\n",
       "      <th>0</th>\n",
       "      <td>0</td>\n",
       "      <td>2024-09-28</td>\n",
       "      <td>270</td>\n",
       "      <td>97,000원</td>\n",
       "      <td>True</td>\n",
       "    </tr>\n",
       "    <tr>\n",
       "      <th>1</th>\n",
       "      <td>1</td>\n",
       "      <td>2024-09-27</td>\n",
       "      <td>270</td>\n",
       "      <td>92,000원</td>\n",
       "      <td>False</td>\n",
       "    </tr>\n",
       "    <tr>\n",
       "      <th>2</th>\n",
       "      <td>2</td>\n",
       "      <td>2024-09-27</td>\n",
       "      <td>270</td>\n",
       "      <td>97,000원</td>\n",
       "      <td>True</td>\n",
       "    </tr>\n",
       "    <tr>\n",
       "      <th>3</th>\n",
       "      <td>3</td>\n",
       "      <td>2024-09-27</td>\n",
       "      <td>270</td>\n",
       "      <td>96,000원</td>\n",
       "      <td>True</td>\n",
       "    </tr>\n",
       "    <tr>\n",
       "      <th>4</th>\n",
       "      <td>4</td>\n",
       "      <td>2024-09-27</td>\n",
       "      <td>270</td>\n",
       "      <td>96,000원</td>\n",
       "      <td>True</td>\n",
       "    </tr>\n",
       "  </tbody>\n",
       "</table>\n",
       "</div>"
      ],
      "text/plain": [
       "   Unnamed: 0        거래일   옵션      거래가   빠른배송\n",
       "0           0 2024-09-28  270  97,000원   True\n",
       "1           1 2024-09-27  270  92,000원  False\n",
       "2           2 2024-09-27  270  97,000원   True\n",
       "3           3 2024-09-27  270  96,000원   True\n",
       "4           4 2024-09-27  270  96,000원   True"
      ]
     },
     "execution_count": 10,
     "metadata": {},
     "output_type": "execute_result"
    }
   ],
   "source": [
    "df.head()"
   ]
  },
  {
   "cell_type": "code",
   "execution_count": 11,
   "id": "f0077cab-98f0-4259-8998-8de01755752b",
   "metadata": {},
   "outputs": [],
   "source": [
    "\n",
    "df['거래가'] = df['거래가'].str.replace('원','').str.replace(',','').astype(int)"
   ]
  },
  {
   "cell_type": "code",
   "execution_count": 12,
   "id": "2e937e78-6d75-4a31-9d50-28e4e1d08034",
   "metadata": {},
   "outputs": [
    {
     "data": {
      "text/html": [
       "<div>\n",
       "<style scoped>\n",
       "    .dataframe tbody tr th:only-of-type {\n",
       "        vertical-align: middle;\n",
       "    }\n",
       "\n",
       "    .dataframe tbody tr th {\n",
       "        vertical-align: top;\n",
       "    }\n",
       "\n",
       "    .dataframe thead th {\n",
       "        text-align: right;\n",
       "    }\n",
       "</style>\n",
       "<table border=\"1\" class=\"dataframe\">\n",
       "  <thead>\n",
       "    <tr style=\"text-align: right;\">\n",
       "      <th></th>\n",
       "      <th>Unnamed: 0</th>\n",
       "      <th>거래일</th>\n",
       "      <th>옵션</th>\n",
       "      <th>거래가</th>\n",
       "      <th>빠른배송</th>\n",
       "    </tr>\n",
       "  </thead>\n",
       "  <tbody>\n",
       "    <tr>\n",
       "      <th>0</th>\n",
       "      <td>0</td>\n",
       "      <td>2024-09-28</td>\n",
       "      <td>270</td>\n",
       "      <td>97000</td>\n",
       "      <td>True</td>\n",
       "    </tr>\n",
       "    <tr>\n",
       "      <th>1</th>\n",
       "      <td>1</td>\n",
       "      <td>2024-09-27</td>\n",
       "      <td>270</td>\n",
       "      <td>92000</td>\n",
       "      <td>False</td>\n",
       "    </tr>\n",
       "    <tr>\n",
       "      <th>2</th>\n",
       "      <td>2</td>\n",
       "      <td>2024-09-27</td>\n",
       "      <td>270</td>\n",
       "      <td>97000</td>\n",
       "      <td>True</td>\n",
       "    </tr>\n",
       "    <tr>\n",
       "      <th>3</th>\n",
       "      <td>3</td>\n",
       "      <td>2024-09-27</td>\n",
       "      <td>270</td>\n",
       "      <td>96000</td>\n",
       "      <td>True</td>\n",
       "    </tr>\n",
       "    <tr>\n",
       "      <th>4</th>\n",
       "      <td>4</td>\n",
       "      <td>2024-09-27</td>\n",
       "      <td>270</td>\n",
       "      <td>96000</td>\n",
       "      <td>True</td>\n",
       "    </tr>\n",
       "  </tbody>\n",
       "</table>\n",
       "</div>"
      ],
      "text/plain": [
       "   Unnamed: 0        거래일   옵션    거래가   빠른배송\n",
       "0           0 2024-09-28  270  97000   True\n",
       "1           1 2024-09-27  270  92000  False\n",
       "2           2 2024-09-27  270  97000   True\n",
       "3           3 2024-09-27  270  96000   True\n",
       "4           4 2024-09-27  270  96000   True"
      ]
     },
     "execution_count": 12,
     "metadata": {},
     "output_type": "execute_result"
    }
   ],
   "source": [
    "df.head()"
   ]
  },
  {
   "cell_type": "code",
   "execution_count": 31,
   "id": "66bdd501-0981-46a4-ad36-e4edb489c625",
   "metadata": {
    "scrolled": true
   },
   "outputs": [
    {
     "name": "stderr",
     "output_type": "stream",
     "text": [
      "C:\\Users\\user\\anaconda3\\Lib\\site-packages\\IPython\\core\\pylabtools.py:170: UserWarning: Glyph 8722 (\\N{MINUS SIGN}) missing from current font.\n",
      "  fig.canvas.print_figure(bytes_io, **kw)\n"
     ]
    },
    {
     "data": {
      "image/png": "[encoded data removed]",
      "text/plain": [
       "<Figure size 1680x960 with 1 Axes>"
      ]
     },
     "metadata": {},
     "output_type": "display_data"
    }
   ],
   "source": [
    "import matplotlib.pyplot as plt\n",
    "from matplotlib import font_manager, rc\n",
    "\n",
    "# 한글 폰트 설정\n",
    "plt.rcParams['font.family'] = 'Malgun Gothic'  # 'Nanum Gothic'을 설치한 경우 해당 폰트로 설정 가능\n",
    "\n",
    "# 나머지 그래프 코드\n",
    "plt.style.use('dark_background')\n",
    "plt.figure(figsize=(14,8), dpi=120)\n",
    "\n",
    "# 빠른배송이 True인 거래가에서 False인 거래가를 뺀 차이 계산\n",
    "df_diff = df[df['빠른배송'] == True].set_index('거래일')['거래가'] - df[df['빠른배송'] == False].set_index('거래일')['거래가']\n",
    "\n",
    "# 그래프 그리기\n",
    "plt.plot(df_diff.index, df_diff.values, color='yellow', label='빠른배송 거래가 - 일반 거래가')\n",
    "\n",
    "plt.axhline(y=119000, color='red', linestyle='--', xmin=0, xmax=(pd.to_datetime('2022-01-01') - df['거래일'].min()).days / (df['거래일'].max() - df['거래일'].min()).days)\n",
    "plt.axhline(y=129000, color='red', linestyle='--', xmin=(pd.to_datetime('2022-01-01') - df['거래일'].min()).days / (df['거래일'].max() - df['거래일'].min()).days, xmax=(pd.to_datetime('2023-07-01') - df['거래일'].min()).days / (df['거래일'].max() - df['거래일'].min()).days)\n",
    "plt.axhline(y=139000, color='red', linestyle='--', xmin=(pd.to_datetime('2023-07-01') - df['거래일'].min()).days / (df['거래일'].max() - df['거래일'].min()).days, label='판매정가')\n",
    "\n",
    "plt.xlabel('거래일')\n",
    "plt.ylabel('빠른배송 거래가 - 일반 거래가 (단위: 원)')\n",
    "plt.title('나이키 덩크 로우 레트로 블랙(범고래)의 빠른배송 거래가와 일반 거래가 차이')\n",
    "plt.legend()\n",
    "\n",
    "plt.show()"
   ]
  },
  {
   "cell_type": "code",
   "execution_count": 32,
   "id": "e18de754-54c1-4b06-914a-a8460eaa1c92",
   "metadata": {},
   "outputs": [
    {
     "name": "stdout",
     "output_type": "stream",
     "text": [
      "빠른배송 거래가 - 일반 거래가 차이 (가장 큰 값 제외)\n",
      "거래일\n",
      "2022-09-06    9000.0\n",
      "2022-09-06    9000.0\n",
      "2022-09-06    6000.0\n",
      "2022-09-06    8000.0\n",
      "2022-09-06    7000.0\n",
      "               ...  \n",
      "2024-09-27    4000.0\n",
      "2024-09-27    5000.0\n",
      "2024-09-27    4000.0\n",
      "2024-09-27    5000.0\n",
      "2024-09-28       NaN\n",
      "Name: 거래가, Length: 285810, dtype: float64\n",
      "\n",
      "가장 큰 값을 제외한 차이값의 평균: 4313.417733928059\n"
     ]
    }
   ],
   "source": [
    "import pandas as pd\n",
    "\n",
    "# 빠른배송이 True인 거래가에서 False인 거래가를 뺀 차이 계산\n",
    "df_diff = df[df['빠른배송'] == True].set_index('거래일')['거래가'] - df[df['빠른배송'] == False].set_index('거래일')['거래가']\n",
    "\n",
    "# 가장 큰 값 제외\n",
    "df_diff_without_max = df_diff[df_diff != df_diff.max()]\n",
    "\n",
    "# 차이값들의 평균 계산\n",
    "mean_diff = df_diff_without_max.mean()\n",
    "\n",
    "# 결과 출력\n",
    "print(\"빠른배송 거래가 - 일반 거래가 차이 (가장 큰 값 제외)\")\n",
    "print(df_diff_without_max)\n",
    "print(f\"\\n가장 큰 값을 제외한 차이값의 평균: {mean_diff}\")"
   ]
  }
 ],
 "metadata": {
  "kernelspec": {
   "display_name": "Python 3 (ipykernel)",
   "language": "python",
   "name": "python3"
  },
  "language_info": {
   "codemirror_mode": {
    "name": "ipython",
    "version": 3
   },
   "file_extension": ".py",
   "mimetype": "text/x-python",
   "name": "python",
   "nbconvert_exporter": "python",
   "pygments_lexer": "ipython3",
   "version": "3.12.4"
  }
 },
 "nbformat": 4,
 "nbformat_minor": 5
}
